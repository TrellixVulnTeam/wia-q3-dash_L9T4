{
 "nbformat": 4,
 "nbformat_minor": 2,
 "metadata": {
  "language_info": {
   "name": "python",
   "codemirror_mode": {
    "name": "ipython",
    "version": 3
   }
  },
  "orig_nbformat": 2,
  "file_extension": ".py",
  "mimetype": "text/x-python",
  "name": "python",
  "npconvert_exporter": "python",
  "pygments_lexer": "ipython3",
  "version": 3
 },
 "cells": [
  {
   "cell_type": "code",
   "execution_count": 5,
   "metadata": {},
   "outputs": [],
   "source": [
    "import pathlib\n",
    "import pandas as pd\n",
    "import numpy as np\n",
    "\n",
    "# Path\n",
    "BASE_PATH = pathlib.Path(\"testing.ipynb\").parent.resolve()\n",
    "DATA_PATH = BASE_PATH.joinpath(\"data\").resolve()\n",
    "\n",
    "attendees = pd.read_csv(DATA_PATH.joinpath(\"Q3-2019 Attendees.csv\"))"
   ]
  },
  {
   "cell_type": "code",
   "execution_count": 2,
   "metadata": {},
   "outputs": [
    {
     "data": {
      "text/html": "<div>\n<style scoped>\n    .dataframe tbody tr th:only-of-type {\n        vertical-align: middle;\n    }\n\n    .dataframe tbody tr th {\n        vertical-align: top;\n    }\n\n    .dataframe thead th {\n        text-align: right;\n    }\n</style>\n<table border=\"1\" class=\"dataframe\">\n  <thead>\n    <tr style=\"text-align: right;\">\n      <th></th>\n      <th>Order #</th>\n      <th>Ticket Type</th>\n      <th>Attendee #</th>\n      <th>Gender</th>\n      <th>City</th>\n      <th>Zip Code</th>\n      <th>Country</th>\n      <th>Dietary Restrictions</th>\n      <th>Technical Expertise</th>\n      <th>Analytics Experience</th>\n      <th>Job Function</th>\n      <th>Industry</th>\n      <th>What topics would you like to hear about?</th>\n      <th>Are you interested in being recruited by sponsoring companies?</th>\n      <th>Do you plan on attending the opening reception on Wednesday, June 3rd, 2020?</th>\n      <th>Did someone refer you to this conference? If so, please list their name.</th>\n      <th>Additional Terms</th>\n      <th>Job Title</th>\n      <th>Company</th>\n    </tr>\n  </thead>\n  <tbody>\n    <tr>\n      <td>0</td>\n      <td>992588611</td>\n      <td>Early Bird Student Conference Pass (June 4&amp;5)</td>\n      <td>1274960543</td>\n      <td>NaN</td>\n      <td>Hamilton</td>\n      <td>L8P 2Z6</td>\n      <td>NaN</td>\n      <td>None</td>\n      <td>Novice</td>\n      <td>&lt; 1 Year</td>\n      <td>Faculty, Student</td>\n      <td>Technology / Software / Internet</td>\n      <td>WWcode D/S slack</td>\n      <td>Yes</td>\n      <td>NaN</td>\n      <td>NaN</td>\n      <td>accepted</td>\n      <td>Student</td>\n      <td>Mohawk College</td>\n    </tr>\n    <tr>\n      <td>1</td>\n      <td>998018187</td>\n      <td>Early Bird Conference Pass (June 4&amp;5)</td>\n      <td>1284198405</td>\n      <td>NaN</td>\n      <td>San Diego</td>\n      <td>92129</td>\n      <td>United States</td>\n      <td>None</td>\n      <td>Expert</td>\n      <td>10+ Years</td>\n      <td>Vice President, Director</td>\n      <td>Technology / Software / Internet</td>\n      <td>All</td>\n      <td>No</td>\n      <td>NaN</td>\n      <td>NaN</td>\n      <td>accepted</td>\n      <td>VP, Data and Analytics</td>\n      <td>Intuit</td>\n    </tr>\n    <tr>\n      <td>2</td>\n      <td>1006781211</td>\n      <td>Early Bird Student Conference Pass (June 4&amp;5)</td>\n      <td>1299358177</td>\n      <td>NaN</td>\n      <td>Euless</td>\n      <td>76039</td>\n      <td>USA</td>\n      <td>None</td>\n      <td>Novice</td>\n      <td>&lt; 1 Year</td>\n      <td>Faculty, Student</td>\n      <td>Healthcare / Life Sciences / Pharmaceuticals</td>\n      <td>guidance on pursuing independent projects</td>\n      <td>Yes</td>\n      <td>NaN</td>\n      <td>NaN</td>\n      <td>Accepted</td>\n      <td>Student</td>\n      <td>UT Dallas</td>\n    </tr>\n    <tr>\n      <td>3</td>\n      <td>1007628215</td>\n      <td>Early Bird Non-Profit Conference Pass (June 4&amp;5)</td>\n      <td>1300773315</td>\n      <td>NaN</td>\n      <td>30 East Broad St, Floor 13</td>\n      <td>43215</td>\n      <td>USA</td>\n      <td>Gluten-Free</td>\n      <td>Intermediate</td>\n      <td>5-9 Years</td>\n      <td>Data Analyst, Data Scientist, AI/ML Engineer</td>\n      <td>Government / Military / Public Admin</td>\n      <td>Colleague</td>\n      <td>Yes</td>\n      <td>NaN</td>\n      <td>NaN</td>\n      <td>Accepted</td>\n      <td>Medicaid Health Systems Administrator</td>\n      <td>Ohio Department of Developmental Disabiltiies</td>\n    </tr>\n    <tr>\n      <td>4</td>\n      <td>1010433277</td>\n      <td>Early Bird Non-Profit Conference Pass (June 4&amp;5)</td>\n      <td>1305655499</td>\n      <td>NaN</td>\n      <td>Columbus</td>\n      <td>43201</td>\n      <td>USA</td>\n      <td>None</td>\n      <td>Intermediate</td>\n      <td>2-4 Years</td>\n      <td>Faculty, Student</td>\n      <td>Higher Education</td>\n      <td>machine learning, high school and college ed.,...</td>\n      <td>No</td>\n      <td>NaN</td>\n      <td>NaN</td>\n      <td>accepted</td>\n      <td>STEMcoding project director / founder</td>\n      <td>Ohio State University</td>\n    </tr>\n  </tbody>\n</table>\n</div>",
      "text/plain": "      Order #                                       Ticket Type  Attendee #  \\\n0   992588611     Early Bird Student Conference Pass (June 4&5)  1274960543   \n1   998018187             Early Bird Conference Pass (June 4&5)  1284198405   \n2  1006781211     Early Bird Student Conference Pass (June 4&5)  1299358177   \n3  1007628215  Early Bird Non-Profit Conference Pass (June 4&5)  1300773315   \n4  1010433277  Early Bird Non-Profit Conference Pass (June 4&5)  1305655499   \n\n   Gender                        City Zip Code        Country  \\\n0     NaN                    Hamilton  L8P 2Z6            NaN   \n1     NaN                   San Diego    92129  United States   \n2     NaN                      Euless    76039            USA   \n3     NaN  30 East Broad St, Floor 13    43215            USA   \n4     NaN                    Columbus    43201            USA   \n\n  Dietary Restrictions Technical Expertise Analytics Experience  \\\n0                 None              Novice             < 1 Year   \n1                 None              Expert            10+ Years   \n2                 None              Novice             < 1 Year   \n3          Gluten-Free        Intermediate            5-9 Years   \n4                 None        Intermediate            2-4 Years   \n\n                                   Job Function  \\\n0                              Faculty, Student   \n1                      Vice President, Director   \n2                              Faculty, Student   \n3  Data Analyst, Data Scientist, AI/ML Engineer   \n4                              Faculty, Student   \n\n                                       Industry  \\\n0              Technology / Software / Internet   \n1              Technology / Software / Internet   \n2  Healthcare / Life Sciences / Pharmaceuticals   \n3          Government / Military / Public Admin   \n4                              Higher Education   \n\n           What topics would you like to hear about?  \\\n0                                   WWcode D/S slack   \n1                                                All   \n2          guidance on pursuing independent projects   \n3                                          Colleague   \n4  machine learning, high school and college ed.,...   \n\n  Are you interested in being recruited by sponsoring companies?  \\\n0                                                Yes               \n1                                                 No               \n2                                                Yes               \n3                                                Yes               \n4                                                 No               \n\n  Do you plan on attending the opening reception on Wednesday, June 3rd, 2020?  \\\n0                                                NaN                             \n1                                                NaN                             \n2                                                NaN                             \n3                                                NaN                             \n4                                                NaN                             \n\n  Did someone refer you to this conference? If so, please list their name.  \\\n0                                                NaN                         \n1                                                NaN                         \n2                                                NaN                         \n3                                                NaN                         \n4                                                NaN                         \n\n  Additional Terms                              Job Title  \\\n0         accepted                                Student   \n1         accepted                 VP, Data and Analytics   \n2         Accepted                                Student   \n3         Accepted  Medicaid Health Systems Administrator   \n4         accepted  STEMcoding project director / founder   \n\n                                         Company  \n0                                 Mohawk College  \n1                                         Intuit  \n2                                      UT Dallas  \n3  Ohio Department of Developmental Disabiltiies  \n4                          Ohio State University  "
     },
     "execution_count": 2,
     "metadata": {},
     "output_type": "execute_result"
    }
   ],
   "source": [
    "attendees.head()"
   ]
  },
  {
   "cell_type": "code",
   "execution_count": 6,
   "metadata": {},
   "outputs": [],
   "source": [
    "q3_analysis_work = attendees.copy()\n",
    "\n",
    "q3_analysis_work = q3_analysis_work.rename(columns = {'Order #':'order#', 'Ticket Type':'ticket_type', 'Attendee #':'attendee#', 'Gender': 'gender', \n",
    "                                                      'City': 'city', 'Zip Code': 'zipcode', 'Country': 'country', \n",
    "                                                      'Dietary Restrictions': 'dietary_restrictions', 'Technical Expertise': 'technical_expertise',\n",
    "                                                      'Analytics Experience': 'analytics_experience', 'Job Function': 'job_function', 'Industry': 'industry',\n",
    "                                                      'What topics would you like to hear about?': 'topics_like_hear',\n",
    "                                                      'Are you interested in being recruited by sponsoring companies?': 'interested_being_recruited',\n",
    "                                                      'Do you plan on attending the opening reception on Wednesday, June 3rd, 2020?': 'plan_attending_reception',\n",
    "                                                      'Did someone refer you to this conference? If so, please list their name.': 'someone_referred_ifso_name',\n",
    "                                                      'Additional Terms': 'additional_terms', 'Job Title': 'job_title', 'Company': 'company'})\n",
    "col = ['ticket_type', 'attendee#', 'gender', 'city', 'zipcode',\n",
    "       'country', 'dietary_restrictions', 'technical_expertise',\n",
    "       'analytics_experience', 'job_function', 'industry', 'topics_like_hear',\n",
    "       'interested_being_recruited', 'plan_attending_reception',\n",
    "       'someone_referred_ifso_name', 'additional_terms', 'job_title',\n",
    "       'company']\n",
    "for i in col:\n",
    "    q3_analysis_work[col] = q3_analysis_work[col].replace(np.nan,'No Answer')"
   ]
  },
  {
   "cell_type": "code",
   "execution_count": 7,
   "metadata": {},
   "outputs": [
    {
     "data": {
      "text/html": "<div>\n<style scoped>\n    .dataframe tbody tr th:only-of-type {\n        vertical-align: middle;\n    }\n\n    .dataframe tbody tr th {\n        vertical-align: top;\n    }\n\n    .dataframe thead th {\n        text-align: right;\n    }\n</style>\n<table border=\"1\" class=\"dataframe\">\n  <thead>\n    <tr style=\"text-align: right;\">\n      <th></th>\n      <th>order#</th>\n      <th>ticket_type</th>\n      <th>attendee#</th>\n      <th>gender</th>\n      <th>city</th>\n      <th>zipcode</th>\n      <th>country</th>\n      <th>dietary_restrictions</th>\n      <th>technical_expertise</th>\n      <th>analytics_experience</th>\n      <th>job_function</th>\n      <th>industry</th>\n      <th>topics_like_hear</th>\n      <th>interested_being_recruited</th>\n      <th>plan_attending_reception</th>\n      <th>someone_referred_ifso_name</th>\n      <th>additional_terms</th>\n      <th>job_title</th>\n      <th>company</th>\n    </tr>\n  </thead>\n  <tbody>\n    <tr>\n      <td>0</td>\n      <td>992588611</td>\n      <td>Early Bird Student Conference Pass (June 4&amp;5)</td>\n      <td>1274960543</td>\n      <td>No Answer</td>\n      <td>Hamilton</td>\n      <td>L8P 2Z6</td>\n      <td>No Answer</td>\n      <td>None</td>\n      <td>Novice</td>\n      <td>&lt; 1 Year</td>\n      <td>Faculty, Student</td>\n      <td>Technology / Software / Internet</td>\n      <td>WWcode D/S slack</td>\n      <td>Yes</td>\n      <td>No Answer</td>\n      <td>No Answer</td>\n      <td>accepted</td>\n      <td>Student</td>\n      <td>Mohawk College</td>\n    </tr>\n    <tr>\n      <td>1</td>\n      <td>998018187</td>\n      <td>Early Bird Conference Pass (June 4&amp;5)</td>\n      <td>1284198405</td>\n      <td>No Answer</td>\n      <td>San Diego</td>\n      <td>92129</td>\n      <td>United States</td>\n      <td>None</td>\n      <td>Expert</td>\n      <td>10+ Years</td>\n      <td>Vice President, Director</td>\n      <td>Technology / Software / Internet</td>\n      <td>All</td>\n      <td>No</td>\n      <td>No Answer</td>\n      <td>No Answer</td>\n      <td>accepted</td>\n      <td>VP, Data and Analytics</td>\n      <td>Intuit</td>\n    </tr>\n    <tr>\n      <td>2</td>\n      <td>1006781211</td>\n      <td>Early Bird Student Conference Pass (June 4&amp;5)</td>\n      <td>1299358177</td>\n      <td>No Answer</td>\n      <td>Euless</td>\n      <td>76039</td>\n      <td>USA</td>\n      <td>None</td>\n      <td>Novice</td>\n      <td>&lt; 1 Year</td>\n      <td>Faculty, Student</td>\n      <td>Healthcare / Life Sciences / Pharmaceuticals</td>\n      <td>guidance on pursuing independent projects</td>\n      <td>Yes</td>\n      <td>No Answer</td>\n      <td>No Answer</td>\n      <td>Accepted</td>\n      <td>Student</td>\n      <td>UT Dallas</td>\n    </tr>\n    <tr>\n      <td>3</td>\n      <td>1007628215</td>\n      <td>Early Bird Non-Profit Conference Pass (June 4&amp;5)</td>\n      <td>1300773315</td>\n      <td>No Answer</td>\n      <td>30 East Broad St, Floor 13</td>\n      <td>43215</td>\n      <td>USA</td>\n      <td>Gluten-Free</td>\n      <td>Intermediate</td>\n      <td>5-9 Years</td>\n      <td>Data Analyst, Data Scientist, AI/ML Engineer</td>\n      <td>Government / Military / Public Admin</td>\n      <td>Colleague</td>\n      <td>Yes</td>\n      <td>No Answer</td>\n      <td>No Answer</td>\n      <td>Accepted</td>\n      <td>Medicaid Health Systems Administrator</td>\n      <td>Ohio Department of Developmental Disabiltiies</td>\n    </tr>\n    <tr>\n      <td>4</td>\n      <td>1010433277</td>\n      <td>Early Bird Non-Profit Conference Pass (June 4&amp;5)</td>\n      <td>1305655499</td>\n      <td>No Answer</td>\n      <td>Columbus</td>\n      <td>43201</td>\n      <td>USA</td>\n      <td>None</td>\n      <td>Intermediate</td>\n      <td>2-4 Years</td>\n      <td>Faculty, Student</td>\n      <td>Higher Education</td>\n      <td>machine learning, high school and college ed.,...</td>\n      <td>No</td>\n      <td>No Answer</td>\n      <td>No Answer</td>\n      <td>accepted</td>\n      <td>STEMcoding project director / founder</td>\n      <td>Ohio State University</td>\n    </tr>\n  </tbody>\n</table>\n</div>",
      "text/plain": "       order#                                       ticket_type   attendee#  \\\n0   992588611     Early Bird Student Conference Pass (June 4&5)  1274960543   \n1   998018187             Early Bird Conference Pass (June 4&5)  1284198405   \n2  1006781211     Early Bird Student Conference Pass (June 4&5)  1299358177   \n3  1007628215  Early Bird Non-Profit Conference Pass (June 4&5)  1300773315   \n4  1010433277  Early Bird Non-Profit Conference Pass (June 4&5)  1305655499   \n\n      gender                        city  zipcode        country  \\\n0  No Answer                    Hamilton  L8P 2Z6      No Answer   \n1  No Answer                   San Diego    92129  United States   \n2  No Answer                      Euless    76039            USA   \n3  No Answer  30 East Broad St, Floor 13    43215            USA   \n4  No Answer                    Columbus    43201            USA   \n\n  dietary_restrictions technical_expertise analytics_experience  \\\n0                 None              Novice             < 1 Year   \n1                 None              Expert            10+ Years   \n2                 None              Novice             < 1 Year   \n3          Gluten-Free        Intermediate            5-9 Years   \n4                 None        Intermediate            2-4 Years   \n\n                                   job_function  \\\n0                              Faculty, Student   \n1                      Vice President, Director   \n2                              Faculty, Student   \n3  Data Analyst, Data Scientist, AI/ML Engineer   \n4                              Faculty, Student   \n\n                                       industry  \\\n0              Technology / Software / Internet   \n1              Technology / Software / Internet   \n2  Healthcare / Life Sciences / Pharmaceuticals   \n3          Government / Military / Public Admin   \n4                              Higher Education   \n\n                                    topics_like_hear  \\\n0                                   WWcode D/S slack   \n1                                                All   \n2          guidance on pursuing independent projects   \n3                                          Colleague   \n4  machine learning, high school and college ed.,...   \n\n  interested_being_recruited plan_attending_reception  \\\n0                        Yes                No Answer   \n1                         No                No Answer   \n2                        Yes                No Answer   \n3                        Yes                No Answer   \n4                         No                No Answer   \n\n  someone_referred_ifso_name additional_terms  \\\n0                  No Answer         accepted   \n1                  No Answer         accepted   \n2                  No Answer         Accepted   \n3                  No Answer         Accepted   \n4                  No Answer         accepted   \n\n                               job_title  \\\n0                                Student   \n1                 VP, Data and Analytics   \n2                                Student   \n3  Medicaid Health Systems Administrator   \n4  STEMcoding project director / founder   \n\n                                         company  \n0                                 Mohawk College  \n1                                         Intuit  \n2                                      UT Dallas  \n3  Ohio Department of Developmental Disabiltiies  \n4                          Ohio State University  "
     },
     "execution_count": 7,
     "metadata": {},
     "output_type": "execute_result"
    }
   ],
   "source": [
    "q3_analysis_work.head()\n"
   ]
  },
  {
   "cell_type": "code",
   "execution_count": null,
   "metadata": {},
   "outputs": [],
   "source": []
  }
 ]
}